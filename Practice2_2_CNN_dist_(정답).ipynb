{
  "cells": [
    {
      "cell_type": "markdown",
      "metadata": {
        "id": "view-in-github",
        "colab_type": "text"
      },
      "source": [
        "<a href=\"https://colab.research.google.com/github/phong0104/SNU_GSDS_BootCamp_Ambient_AI/blob/main/Practice2_2_CNN_dist_(%EC%A0%95%EB%8B%B5).ipynb\" target=\"_parent\"><img src=\"https://colab.research.google.com/assets/colab-badge.svg\" alt=\"Open In Colab\"/></a>"
      ]
    },
    {
      "cell_type": "markdown",
      "metadata": {
        "id": "t2WB3osOu1k6"
      },
      "source": [
        "# | Practice 2-2 | CNN"
      ]
    },
    {
      "cell_type": "markdown",
      "metadata": {
        "id": "QX-KR0Ehu1k8"
      },
      "source": [
        "**Tensorflow 2**를 활용하여 간단한 Convolutional Neural Network(CNN)을 직접 생성해 본다. <br>\n",
        "데이터셋은 MLP와 동일한 Fashion mnist를 하되 CNN 구조를 활용하여 이미지를 구분하는 모델을 만들어 볼 것이다."
      ]
    },
    {
      "cell_type": "markdown",
      "metadata": {
        "id": "oSh5rd2Mu1k8"
      },
      "source": [
        "---"
      ]
    },
    {
      "cell_type": "markdown",
      "metadata": {
        "id": "Q8973gPHu1k8"
      },
      "source": [
        "## (Optional) Colab Setup"
      ]
    },
    {
      "cell_type": "code",
      "execution_count": null,
      "metadata": {
        "id": "dqyc2VvOu1k9"
      },
      "outputs": [],
      "source": [
        "# Colab에 Google Drive를 마운트하면 노트북의 모든 코드가 Google Drive의 모든 파일에 액세스할 수 있게 됨\n",
        "from google.colab import drive\n",
        "drive.mount('/content/drive')"
      ]
    },
    {
      "cell_type": "code",
      "execution_count": null,
      "metadata": {
        "id": "0xlUIaDpu1k9"
      },
      "outputs": [],
      "source": [
        "\"\"\"\n",
        "Change directory to where this file is located\n",
        "\"\"\"\n",
        "#%cd 'COPY&PASTE FILE DIRECTORY HERE'"
      ]
    },
    {
      "cell_type": "markdown",
      "metadata": {
        "id": "sLSlgYXIu1k9"
      },
      "source": [
        "## Import Modules"
      ]
    },
    {
      "cell_type": "code",
      "execution_count": 1,
      "metadata": {
        "id": "XCVR1Vgau1k-"
      },
      "outputs": [],
      "source": [
        "import tensorflow as tf\n",
        "import numpy as np\n",
        "import os\n",
        "import matplotlib.pyplot as plt\n",
        "from sklearn import model_selection"
      ]
    },
    {
      "cell_type": "code",
      "execution_count": null,
      "metadata": {
        "id": "MVhnQrLuu1k-"
      },
      "outputs": [],
      "source": [
        "# Error, Info, Warning log print level\n",
        "#os.environ['TF_CPP_MIN_LOG_LEVEL'] = '2'"
      ]
    },
    {
      "cell_type": "markdown",
      "metadata": {
        "id": "bV603ATou1k_"
      },
      "source": [
        "## GPU Setting"
      ]
    },
    {
      "cell_type": "code",
      "execution_count": null,
      "metadata": {
        "id": "dM1FtxLwu1k_"
      },
      "outputs": [],
      "source": [
        "#os.environ[\"CUDA_VISIBLE_DEVICES\"] = \"2\""
      ]
    },
    {
      "cell_type": "code",
      "execution_count": 2,
      "metadata": {
        "id": "h--u-L4gu1k_",
        "colab": {
          "base_uri": "https://localhost:8080/"
        },
        "outputId": "b6b9208f-7f39-4988-896a-78fba0b8e2f6"
      },
      "outputs": [
        {
          "output_type": "stream",
          "name": "stdout",
          "text": [
            "Num_GPUs:1, List:[PhysicalDevice(name='/physical_device:GPU:0', device_type='GPU')]\n"
          ]
        }
      ],
      "source": [
        "\"\"\"\n",
        "Make sure your runtime type is GPU!\n",
        "\"\"\"\n",
        "physical_devices = tf.config.list_physical_devices('GPU')\n",
        "print('Num_GPUs:{}, List:{}'.format(len(physical_devices), physical_devices))"
      ]
    },
    {
      "cell_type": "code",
      "execution_count": 3,
      "metadata": {
        "id": "zU9qk3ZMu1k_"
      },
      "outputs": [],
      "source": [
        "gpu_growth = False\n",
        "\n",
        "if gpu_growth:\n",
        "    physical_devices = tf.config.list_physical_devices('GPU')\n",
        "    try:\n",
        "        tf.config.experimental.set_memory_growth(physical_devices[0], True)\n",
        "    except:\n",
        "        # Invalid device or cannot modify virtual devices once initialized.\n",
        "        pass"
      ]
    },
    {
      "cell_type": "markdown",
      "metadata": {
        "id": "0rUJP203u1k_"
      },
      "source": [
        "---"
      ]
    },
    {
      "cell_type": "markdown",
      "metadata": {
        "id": "AkDCPJVNu1lA"
      },
      "source": [
        "## 0. Dataset \n",
        "Tensorflow에서는 Fashion MNIST dataset을 불러오기 편하도록 Library에 기본 함수로 지정해 두었다. <br>\n",
        "아래 명령어를 수행하여 데이터셋을 로드하고, Train/Test set으로 구분해 주자.<br>\n",
        "Fashion MNIST에는 총 10개의 class가 있고, 각 이미지별로 0~9의 Label이 지정되어 있다. 0은 T-shirt/top, 1은 Trouser,..에 해당하고, 이를 식별하기 쉽게 class_names에 저장해 두자.\n",
        "\n",
        "![FashionMNISTSample](https://www.researchgate.net/profile/Greeshma-K-V/publication/340299295/figure/fig1/AS:875121904476163@1585656729996/Fashion-MNIST-Dataset-Images-with-Labels-and-Description-II-LITERATURE-REVIEW-In-image.jpg)\n"
      ]
    },
    {
      "cell_type": "markdown",
      "metadata": {
        "id": "J8Yy90P6u1lA"
      },
      "source": [
        "### Load Dataset"
      ]
    },
    {
      "cell_type": "code",
      "execution_count": 4,
      "metadata": {
        "id": "K8HrQ-J4u1lA",
        "colab": {
          "base_uri": "https://localhost:8080/"
        },
        "outputId": "306ba231-0e4e-426a-81d0-f8845c6f2c2b"
      },
      "outputs": [
        {
          "output_type": "stream",
          "name": "stdout",
          "text": [
            "Downloading data from https://storage.googleapis.com/tensorflow/tf-keras-datasets/train-labels-idx1-ubyte.gz\n",
            "29515/29515 [==============================] - 0s 0us/step\n",
            "Downloading data from https://storage.googleapis.com/tensorflow/tf-keras-datasets/train-images-idx3-ubyte.gz\n",
            "26421880/26421880 [==============================] - 0s 0us/step\n",
            "Downloading data from https://storage.googleapis.com/tensorflow/tf-keras-datasets/t10k-labels-idx1-ubyte.gz\n",
            "5148/5148 [==============================] - 0s 0us/step\n",
            "Downloading data from https://storage.googleapis.com/tensorflow/tf-keras-datasets/t10k-images-idx3-ubyte.gz\n",
            "4422102/4422102 [==============================] - 0s 0us/step\n"
          ]
        }
      ],
      "source": [
        "fashion_mnist = tf.keras.datasets.fashion_mnist\n",
        "\n",
        "#Load data\n",
        "(x_train, y_train), (x_test, y_test) = fashion_mnist.load_data()\n",
        "\n",
        "#Split train set into train/valid set\n",
        "x_train, x_valid, y_train, y_valid = model_selection.train_test_split(x_train, y_train,test_size=0.2)\n",
        "\n",
        "#Rescale data to be in the range of [0,1]\n",
        "x_train, x_valid, x_test = x_train / 255.0, x_valid / 255.0, x_test / 255.0\n",
        "class_names = ['T-shirt/top', 'Trouser', 'Pullover', 'Dress', 'Coat',\n",
        "               'Sandal', 'Shirt', 'Sneaker', 'Bag', 'Ankle boot']"
      ]
    },
    {
      "cell_type": "markdown",
      "metadata": {
        "id": "93J960Eeu1lB"
      },
      "source": [
        "### Data Visualization"
      ]
    },
    {
      "cell_type": "code",
      "execution_count": 10,
      "metadata": {
        "id": "lAH8rJSZu1lB",
        "colab": {
          "base_uri": "https://localhost:8080/",
          "height": 269
        },
        "outputId": "9d7d802e-8dc1-4bf9-983d-500039294c7d"
      },
      "outputs": [
        {
          "output_type": "display_data",
          "data": {
            "text/plain": [
              "<Figure size 432x288 with 2 Axes>"
            ],
            "image/png": "[encoded data removed]"
          },
          "metadata": {
            "needs_background": "light"
          }
        }
      ],
      "source": [
        "#Let's look at the sample data\n",
        "plt.figure()\n",
        "plt.imshow(x_train[1])\n",
        "plt.colorbar()\n",
        "plt.grid(False)\n",
        "plt.show()"
      ]
    },
    {
      "cell_type": "code",
      "source": [
        "x_train[0].shape"
      ],
      "metadata": {
        "colab": {
          "base_uri": "https://localhost:8080/"
        },
        "id": "JNlUPL4aZC1e",
        "outputId": "8c41b6bb-823e-4f86-c6f4-39015cb8cbbf"
      },
      "execution_count": 8,
      "outputs": [
        {
          "output_type": "execute_result",
          "data": {
            "text/plain": [
              "(28, 28)"
            ]
          },
          "metadata": {},
          "execution_count": 8
        }
      ]
    },
    {
      "cell_type": "markdown",
      "metadata": {
        "id": "zGjCR2Oru1lA"
      },
      "source": [
        "### Data Shape"
      ]
    },
    {
      "cell_type": "markdown",
      "metadata": {
        "id": "yT-h5--Fu1lA"
      },
      "source": [
        "Fashion MNIST dataset의 data shape은 (28,28)인데, 이는 Convolution layer에서 요구하는 (H, W, C)의 형태와 다르다. <br>\n",
        "따라서 마지막 Channel dimension을 추가해 주어야 Convolution lyaer를 수월하게 적용할 수 있다."
      ]
    },
    {
      "cell_type": "code",
      "execution_count": 11,
      "metadata": {
        "id": "4ACR1eHLu1lA",
        "colab": {
          "base_uri": "https://localhost:8080/"
        },
        "outputId": "90d4d31c-839f-4d70-c781-f0bc1d61cb7b"
      },
      "outputs": [
        {
          "output_type": "stream",
          "name": "stdout",
          "text": [
            "x_train shape: (48000, 28, 28)\n",
            "expanded x_train shape: (48000, 28, 28, 1)\n"
          ]
        }
      ],
      "source": [
        "####### 실습 #######\n",
        "def expand(input_img):\n",
        "    return np.expand_dims(input_img, axis=-1)\n",
        "###################\n",
        "print(f\"x_train shape: {x_train.shape}\")\n",
        "print(f\"expanded x_train shape: {expand(x_train).shape}\")"
      ]
    },
    {
      "cell_type": "code",
      "execution_count": 12,
      "metadata": {
        "id": "g_0tTeb2u1lB",
        "colab": {
          "base_uri": "https://localhost:8080/"
        },
        "outputId": "c8ef7e95-e13c-4cea-b9e8-1ec7f4044935"
      },
      "outputs": [
        {
          "output_type": "stream",
          "name": "stdout",
          "text": [
            "\n",
            "x_train shape: (48000, 28, 28, 1)\n",
            "x_valid shape: (12000, 28, 28, 1)\n",
            "x_test shape: (10000, 28, 28, 1)\n",
            "\n"
          ]
        }
      ],
      "source": [
        "x_train = expand(x_train)\n",
        "x_valid = expand(x_valid)\n",
        "x_test = expand(x_test)\n",
        "\n",
        "print(f\"\"\"\n",
        "x_train shape: {x_train.shape}\n",
        "x_valid shape: {x_valid.shape}\n",
        "x_test shape: {x_test.shape}\n",
        "\"\"\")"
      ]
    },
    {
      "cell_type": "markdown",
      "metadata": {
        "id": "4dLMKZKKu1lB"
      },
      "source": [
        "---"
      ]
    },
    {
      "cell_type": "markdown",
      "metadata": {
        "id": "XEzVqLr6u1lB"
      },
      "source": [
        "## 1. Model"
      ]
    },
    {
      "cell_type": "markdown",
      "metadata": {
        "id": "FNZ7-aJcu1lB"
      },
      "source": [
        "이제 간단한 CNN을 구성해 볼 것이다.\n",
        "이전 실습과 마찬가지로 keras의 sequential method를 사용하면 원하는 Layer를 차곡차곡 쌓아가면서 모델을 구성할 수 있다. <br>\n",
        "\n",
        "이번 실습에서는 아래 그림과 같은 구조로 모델을 만들어 볼 것이다.\n",
        "![Practice2_cnn_model.png](data:image/png;base64,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)\n",
        "\n",
        "- Convolution layer, output filter size = 64, kernel size = (3,3), activation = relu\n",
        "- Max pooling layer, 2x2 pooling, 2x2 strides\n",
        "- Convolution layer, output filter size = 128, kernel size = (3,3), activation = relu\n",
        "- Max pooling layer, 2x2 pooling, 2x2 strides\n",
        "- Flatten and Dense layer, softmax activation\n",
        "\n",
        "<br>\n",
        "\n",
        "CNN의 구현을 위해 `tf.keras.layers`의 Conv2D layer와 MaxPool2D Layer를 추가적으로 사용한다. 아래 함수 설명을 참조하라. <br>\n",
        "`Conv2D(filters, kernel_size, padding, activation, input_shape)`\n",
        "- filters: Out 채널의 필터(채널) 개수\n",
        "- kernel_size: 커널의 사이즈, integer 또는 (int, int) tuple을 입력\n",
        "- padding: 'same' 또는 'valid'를 입력. 'same'을 입력하면 input과 output의 사이즈가 같아지도록 자동으로 패딩을 설정해 주고, 'valid'를 입력하면 이러한 고려 없이 Convolution이 적용된다.\n",
        "- activation: 원하는 activation function을 입력(예: 'relu', 'softmax' etc)\n",
        "- 더욱 상세한 설명은 공식 Documentation을 참고하자. https://www.tensorflow.org/api_docs/python/tf/keras/layers/Conv2D\n",
        "<br>\n",
        "\n",
        "`MaxPool2D(pool_size, strides)`\n",
        "- pool_size: Max pooling을 적용할 필터의 사이즈\n",
        "- strides: Max pooling을 몇칸마다 수행할 것인지를 결정. 입력하지 않으면 pool_size와 동일하게 입력된다."
      ]
    },
    {
      "cell_type": "markdown",
      "metadata": {
        "id": "b8RKoQEIu1lB"
      },
      "source": [
        "### Model Architecture"
      ]
    },
    {
      "cell_type": "code",
      "execution_count": 16,
      "metadata": {
        "id": "Hq60MWk-u1lB"
      },
      "outputs": [],
      "source": [
        "model = tf.keras.models.Sequential([\n",
        "    ####### 실습 #######\n",
        "    tf.keras.layers.Conv2D(filters=64, kernel_size=(3,3), padding='same', activation='relu', input_shape=x_train.shape[1:]),\n",
        "    tf.keras.layers.MaxPool2D(pool_size=(2,2), strides=(2,2)),\n",
        "    tf.keras.layers.Conv2D(filters=128, kernel_size=(3,3), padding='same', activation='relu'),\n",
        "    tf.keras.layers.MaxPool2D(pool_size=(2,2), strides=(2,2)),\n",
        "    tf.keras.layers.Flatten(),\n",
        "    tf.keras.layers.Dense(10, activation='softmax')\n",
        "    ###################\n",
        "])"
      ]
    },
    {
      "cell_type": "code",
      "source": [
        "x_train.shape"
      ],
      "metadata": {
        "colab": {
          "base_uri": "https://localhost:8080/"
        },
        "id": "k07O4aNGZ48o",
        "outputId": "89f68122-1820-4071-9ffe-632457b14df4"
      },
      "execution_count": 13,
      "outputs": [
        {
          "output_type": "execute_result",
          "data": {
            "text/plain": [
              "(48000, 28, 28, 1)"
            ]
          },
          "metadata": {},
          "execution_count": 13
        }
      ]
    },
    {
      "cell_type": "code",
      "source": [
        "x_train.shape[1:]"
      ],
      "metadata": {
        "colab": {
          "base_uri": "https://localhost:8080/"
        },
        "id": "6NSnCPDLZ6U5",
        "outputId": "0208444c-f4ea-4c87-eb29-a93aed22c70d"
      },
      "execution_count": 14,
      "outputs": [
        {
          "output_type": "execute_result",
          "data": {
            "text/plain": [
              "(28, 28, 1)"
            ]
          },
          "metadata": {},
          "execution_count": 14
        }
      ]
    },
    {
      "cell_type": "markdown",
      "metadata": {
        "id": "5va0Utg_u1lB"
      },
      "source": [
        "### Model Compile"
      ]
    },
    {
      "cell_type": "markdown",
      "metadata": {
        "id": "Hk5YCet4u1lB"
      },
      "source": [
        "다음으로 Loss, Optimizer, Metrics등을 정의하여 모델을 컴파일해준다. 이 부분은 지난 MLP 실습과 동일하다.\n",
        "- 10개 중 하나로 Classification하는 문제이므로 SparseCategoricalCrossentropy를 Loss로 사용해준다.\n",
        "- Optimizer는 가장 널리 쓰이는 방법론 중 하나인 Adam을 사용하자."
      ]
    },
    {
      "cell_type": "code",
      "execution_count": 17,
      "metadata": {
        "id": "4_nKrVYru1lC"
      },
      "outputs": [],
      "source": [
        "loss_fn = tf.keras.losses.SparseCategoricalCrossentropy()\n",
        "optim_fn = tf.keras.optimizers.Adam(learning_rate=0.001)"
      ]
    },
    {
      "cell_type": "code",
      "execution_count": 18,
      "metadata": {
        "id": "VYyL1m8au1lC"
      },
      "outputs": [],
      "source": [
        "model.compile(optimizer=optim_fn,\n",
        "              loss=loss_fn,\n",
        "              metrics=['accuracy'])"
      ]
    },
    {
      "cell_type": "code",
      "execution_count": 19,
      "metadata": {
        "id": "bwN88A4-u1lC",
        "colab": {
          "base_uri": "https://localhost:8080/"
        },
        "outputId": "c3fdf852-3e81-4f35-9c79-8e5398bbc45c"
      },
      "outputs": [
        {
          "output_type": "stream",
          "name": "stdout",
          "text": [
            "Model: \"sequential\"\n",
            "_________________________________________________________________\n",
            " Layer (type)                Output Shape              Param #   \n",
            "=================================================================\n",
            " conv2d_1 (Conv2D)           (None, 28, 28, 64)        640       \n",
            "                                                                 \n",
            " max_pooling2d (MaxPooling2D  (None, 14, 14, 64)       0         \n",
            " )                                                               \n",
            "                                                                 \n",
            " conv2d_2 (Conv2D)           (None, 14, 14, 128)       73856     \n",
            "                                                                 \n",
            " max_pooling2d_1 (MaxPooling  (None, 7, 7, 128)        0         \n",
            " 2D)                                                             \n",
            "                                                                 \n",
            " flatten (Flatten)           (None, 6272)              0         \n",
            "                                                                 \n",
            " dense (Dense)               (None, 10)                62730     \n",
            "                                                                 \n",
            "=================================================================\n",
            "Total params: 137,226\n",
            "Trainable params: 137,226\n",
            "Non-trainable params: 0\n",
            "_________________________________________________________________\n"
          ]
        }
      ],
      "source": [
        "model.summary()"
      ]
    },
    {
      "cell_type": "markdown",
      "metadata": {
        "id": "EGCGR5MDu1lC"
      },
      "source": [
        "## 2. Training"
      ]
    },
    {
      "cell_type": "markdown",
      "metadata": {
        "id": "YpOLgn9Eu1lC"
      },
      "source": [
        "### Callbacks"
      ]
    },
    {
      "cell_type": "markdown",
      "metadata": {
        "id": "HYOGIGrHu1lC"
      },
      "source": [
        "다음과 같이 지난 실습때 배운 Callback 함수를 활용하여 Checkpoint를 생성하고, Learning rate schedule을 설정해 보자."
      ]
    },
    {
      "cell_type": "code",
      "execution_count": 20,
      "metadata": {
        "id": "X6W8LIq8u1lC"
      },
      "outputs": [],
      "source": [
        "checkpoint_dir = './Practice_CNN/training_checkpoints_cnn'\n",
        "checkpoint_prefix = os.path.join(checkpoint_dir, \"ckpt_{epoch}\")\n",
        "\n",
        "def decay(epoch):\n",
        "    if epoch < 3:\n",
        "        return 1e-3\n",
        "    elif epoch >=3 and epoch < 7:\n",
        "        return 1e-4\n",
        "    else:\n",
        "        return 1e-5\n",
        "    \n",
        "callbacks = [\n",
        "    tf.keras.callbacks.ModelCheckpoint(filepath=checkpoint_prefix, save_weights_only = True),\n",
        "    tf.keras.callbacks.LearningRateScheduler(decay)\n",
        "]"
      ]
    },
    {
      "cell_type": "markdown",
      "metadata": {
        "id": "vwrhe1CIu1lC"
      },
      "source": [
        "### Training"
      ]
    },
    {
      "cell_type": "markdown",
      "metadata": {
        "id": "oLFVPlbku1lC"
      },
      "source": [
        "이제 model.fit 명령어를 이용하여 CNN 모델을 트레이닝하자."
      ]
    },
    {
      "cell_type": "code",
      "execution_count": 21,
      "metadata": {
        "id": "tCaTUS9Ku1lC",
        "colab": {
          "base_uri": "https://localhost:8080/"
        },
        "outputId": "d0341ac3-8cda-4944-a3f7-1400211db6a1"
      },
      "outputs": [
        {
          "output_type": "stream",
          "name": "stdout",
          "text": [
            "Epoch 1/10\n",
            "1500/1500 [==============================] - 14s 4ms/step - loss: 0.4231 - accuracy: 0.8485 - val_loss: 0.3111 - val_accuracy: 0.8893 - lr: 0.0010\n",
            "Epoch 2/10\n",
            "1500/1500 [==============================] - 6s 4ms/step - loss: 0.2833 - accuracy: 0.8979 - val_loss: 0.3002 - val_accuracy: 0.8919 - lr: 0.0010\n",
            "Epoch 3/10\n",
            "1500/1500 [==============================] - 6s 4ms/step - loss: 0.2390 - accuracy: 0.9123 - val_loss: 0.2651 - val_accuracy: 0.9045 - lr: 0.0010\n",
            "Epoch 4/10\n",
            "1500/1500 [==============================] - 5s 4ms/step - loss: 0.1769 - accuracy: 0.9364 - val_loss: 0.2265 - val_accuracy: 0.9207 - lr: 1.0000e-04\n",
            "Epoch 5/10\n",
            "1500/1500 [==============================] - 5s 4ms/step - loss: 0.1647 - accuracy: 0.9406 - val_loss: 0.2230 - val_accuracy: 0.9197 - lr: 1.0000e-04\n",
            "Epoch 6/10\n",
            "1500/1500 [==============================] - 6s 4ms/step - loss: 0.1578 - accuracy: 0.9440 - val_loss: 0.2202 - val_accuracy: 0.9216 - lr: 1.0000e-04\n",
            "Epoch 7/10\n",
            "1500/1500 [==============================] - 5s 4ms/step - loss: 0.1522 - accuracy: 0.9457 - val_loss: 0.2184 - val_accuracy: 0.9222 - lr: 1.0000e-04\n",
            "Epoch 8/10\n",
            "1500/1500 [==============================] - 6s 4ms/step - loss: 0.1426 - accuracy: 0.9501 - val_loss: 0.2157 - val_accuracy: 0.9231 - lr: 1.0000e-05\n",
            "Epoch 9/10\n",
            "1500/1500 [==============================] - 6s 4ms/step - loss: 0.1415 - accuracy: 0.9508 - val_loss: 0.2154 - val_accuracy: 0.9237 - lr: 1.0000e-05\n",
            "Epoch 10/10\n",
            "1500/1500 [==============================] - 6s 4ms/step - loss: 0.1409 - accuracy: 0.9511 - val_loss: 0.2160 - val_accuracy: 0.9238 - lr: 1.0000e-05\n"
          ]
        }
      ],
      "source": [
        "hist = model.fit(x_train, y_train, epochs=10, callbacks=callbacks, validation_data=(x_valid, y_valid))"
      ]
    },
    {
      "cell_type": "markdown",
      "metadata": {
        "id": "zpyXZgeJu1lC"
      },
      "source": [
        "### Plot Loss & Accuracy"
      ]
    },
    {
      "cell_type": "code",
      "execution_count": 22,
      "metadata": {
        "id": "1hUNMqu3u1lC",
        "colab": {
          "base_uri": "https://localhost:8080/",
          "height": 513
        },
        "outputId": "55a9996f-7707-4b46-ab2f-913dbfccfca8"
      },
      "outputs": [
        {
          "output_type": "display_data",
          "data": {
            "text/plain": [
              "<Figure size 576x576 with 2 Axes>"
            ],
            "image/png": "[encoded data removed]"
          },
          "metadata": {
            "needs_background": "light"
          }
        }
      ],
      "source": [
        "acc = hist.history['accuracy']\n",
        "val_acc = hist.history['val_accuracy']\n",
        "\n",
        "loss = hist.history['loss']\n",
        "val_loss = hist.history['val_loss']\n",
        "\n",
        "plt.figure(figsize=(8, 8))\n",
        "plt.subplot(2, 1, 1)\n",
        "plt.plot(acc, label='Training Accuracy')\n",
        "plt.plot(val_acc, label='Validation Accuracy')\n",
        "plt.legend(loc='lower right')\n",
        "plt.ylabel('Accuracy')\n",
        "plt.ylim([min(plt.ylim()),1])\n",
        "plt.title('Training and Validation Accuracy')\n",
        "\n",
        "plt.subplot(2, 1, 2)\n",
        "plt.plot(loss, label='Training Loss')\n",
        "plt.plot(val_loss, label='Validation Loss')\n",
        "plt.legend(loc='upper right')\n",
        "plt.ylabel('Cross Entropy')\n",
        "plt.ylim([0,1.0])\n",
        "plt.title('Training and Validation Loss')\n",
        "plt.xlabel('epoch')\n",
        "plt.show()"
      ]
    },
    {
      "cell_type": "markdown",
      "metadata": {
        "id": "7ypM9Xmsu1lC"
      },
      "source": [
        "### Model Evaluation (Test)"
      ]
    },
    {
      "cell_type": "markdown",
      "metadata": {
        "id": "5b9o_3O2u1lD"
      },
      "source": [
        "model.evaluate 함수를 통해 Test set에 대해서도 Accuracy가 잘 나오는지 확인해 보자. 지난 MLP를 이용한 모델과 Accuracy를 비교했을 때 Accuracy가 높아진 것을 확인할 수 있다."
      ]
    },
    {
      "cell_type": "code",
      "execution_count": 23,
      "metadata": {
        "id": "2waBQmyVu1lD",
        "colab": {
          "base_uri": "https://localhost:8080/"
        },
        "outputId": "95fe3169-683c-4a69-d3d7-8412278315b8"
      },
      "outputs": [
        {
          "output_type": "stream",
          "name": "stdout",
          "text": [
            "313/313 [==============================] - 1s 3ms/step - loss: 0.2309 - accuracy: 0.9194\n"
          ]
        },
        {
          "output_type": "execute_result",
          "data": {
            "text/plain": [
              "[0.23093396425247192, 0.9193999767303467]"
            ]
          },
          "metadata": {},
          "execution_count": 23
        }
      ],
      "source": [
        "model.evaluate(x_test, y_test)"
      ]
    },
    {
      "cell_type": "markdown",
      "metadata": {
        "id": "0quplmjzu1lD"
      },
      "source": [
        "Test set에서 하나의 샘플을 추출하여 정답과 예측 결과를 비교해 볼 수도 있다."
      ]
    },
    {
      "cell_type": "code",
      "execution_count": 24,
      "metadata": {
        "id": "X2aFIBa2u1lD",
        "colab": {
          "base_uri": "https://localhost:8080/"
        },
        "outputId": "45f6b0da-7bb4-44e6-f915-ae79b251b822"
      },
      "outputs": [
        {
          "output_type": "stream",
          "name": "stdout",
          "text": [
            "313/313 [==============================] - 1s 2ms/step\n"
          ]
        }
      ],
      "source": [
        "predictions = model.predict(x_test)"
      ]
    },
    {
      "cell_type": "code",
      "execution_count": 25,
      "metadata": {
        "id": "vPCcjzCiu1lD"
      },
      "outputs": [],
      "source": [
        "#Plot image with label\n",
        "def plot_image(i, predictions_array, true_label, img):\n",
        "    predictions_array, true_label, img = predictions_array[i], true_label[i], img[i]\n",
        "    img = img.reshape((28,28))\n",
        "    plt.grid(False)\n",
        "    plt.xticks([])\n",
        "    plt.yticks([])\n",
        "\n",
        "    plt.imshow(img, cmap=plt.cm.binary)\n",
        "    predicted_label = np.argmax(predictions_array)\n",
        "    if predicted_label == true_label:\n",
        "        color = 'blue'\n",
        "    else:\n",
        "        color = 'red'\n",
        "\n",
        "    plt.xlabel(\"{} {:2.0f}% ({})\".format(class_names[predicted_label],\n",
        "                                100*np.max(predictions_array),\n",
        "                                class_names[true_label]),\n",
        "                                color=color)\n",
        "#Plot \n",
        "def plot_value_array(i, predictions_array, true_label):\n",
        "    predictions_array, true_label = predictions_array[i], true_label[i]\n",
        "    plt.grid(False)\n",
        "    plt.xticks([])\n",
        "    plt.yticks([])\n",
        "    thisplot = plt.bar(range(10), predictions_array, color='gray')\n",
        "    plt.ylim([0,1])\n",
        "    predicted_label = np.argmax(predictions_array)\n",
        "    _ = plt.xticks(range(10), class_names, rotation=45)\n",
        "\n",
        "    thisplot[predicted_label].set_color('red')\n",
        "    thisplot[true_label].set_color('blue')"
      ]
    },
    {
      "cell_type": "code",
      "execution_count": 26,
      "metadata": {
        "id": "Ewm7EukYu1lD",
        "colab": {
          "base_uri": "https://localhost:8080/",
          "height": 246
        },
        "outputId": "32761148-41b1-4080-b5e9-1777c775852f"
      },
      "outputs": [
        {
          "output_type": "display_data",
          "data": {
            "text/plain": [
              "<Figure size 432x216 with 2 Axes>"
            ],
            "image/png": "[encoded data removed]"
          },
          "metadata": {
            "needs_background": "light"
          }
        }
      ],
      "source": [
        "i = 1\n",
        "plt.figure(figsize=(6,3))\n",
        "plt.subplot(1,2,1)\n",
        "plot_image(i, predictions, y_test, x_test)\n",
        "plt.subplot(1,2,2)\n",
        "plot_value_array(i, predictions, y_test)\n",
        "plt.show()"
      ]
    },
    {
      "cell_type": "code",
      "execution_count": null,
      "metadata": {
        "id": "Cqzf1yzgu1lD"
      },
      "outputs": [],
      "source": []
    }
  ],
  "metadata": {
    "accelerator": "GPU",
    "colab": {
      "provenance": [],
      "include_colab_link": true
    },
    "gpuClass": "standard",
    "kernelspec": {
      "display_name": "Python 3 (ipykernel)",
      "language": "python",
      "name": "python3"
    },
    "language_info": {
      "codemirror_mode": {
        "name": "ipython",
        "version": 3
      },
      "file_extension": ".py",
      "mimetype": "text/x-python",
      "name": "python",
      "nbconvert_exporter": "python",
      "pygments_lexer": "ipython3",
      "version": "3.8.13"
    }
  },
  "nbformat": 4,
  "nbformat_minor": 0
}